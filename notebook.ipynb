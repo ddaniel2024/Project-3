{
 "cells": [
  {
   "cell_type": "code",
   "execution_count": null,
   "metadata": {},
   "outputs": [],
   "source": [
    "# Dependencies imported\n",
    "from pymongo import MongoClient\n",
    "from pprint import pprint\n",
    "import pandas as pd\n",
    "import json\n",
    "import seaborn as sns\n",
    "import matplotlib.pyplot as plt"
   ]
  },
  {
   "cell_type": "markdown",
   "metadata": {},
   "source": [
    "Import source datasets into MongoDB using the following imports\n",
    "\n",
    "mongoimport --type csv -d project3 -c emissions --headerline --drop GCB2022v27_MtCO2_flat.csv\n",
    "\n",
    "mongoimport --type csv -d project3 -c population --headerline --drop world_population.csv\n",
    "\n",
    "mongoimport --type csv -d project3 -c gdp --headerline --drop gdp.csv"
   ]
  },
  {
   "cell_type": "code",
   "execution_count": null,
   "metadata": {},
   "outputs": [],
   "source": [
    "# Instance of MongoClient created\n",
    "mongo = MongoClient(port=27017)"
   ]
  },
  {
   "cell_type": "code",
   "execution_count": null,
   "metadata": {},
   "outputs": [],
   "source": [
    "# Database names listed, to ensure that our database has been created\n",
    "mongo.list_database_names()"
   ]
  },
  {
   "cell_type": "code",
   "execution_count": null,
   "metadata": {},
   "outputs": [],
   "source": [
    "# Database is named\n",
    "db = mongo[\"project3\"]"
   ]
  },
  {
   "cell_type": "code",
   "execution_count": null,
   "metadata": {},
   "outputs": [],
   "source": [
    "# Collection names are listed to ensure that our datasets have been imported\n",
    "db.list_collection_names()"
   ]
  },
  {
   "cell_type": "code",
   "execution_count": null,
   "metadata": {},
   "outputs": [],
   "source": [
    "# Colections are named\n",
    "emissions = db[\"emissions\"]\n",
    "population = db[\"population\"]\n",
    "gdp = db[\"gdp\"]"
   ]
  },
  {
   "cell_type": "code",
   "execution_count": null,
   "metadata": {},
   "outputs": [],
   "source": [
    "# 1 record in the emission collection is printed to gauge its structure\n",
    "pprint(emissions.find_one())"
   ]
  },
  {
   "cell_type": "code",
   "execution_count": null,
   "metadata": {},
   "outputs": [],
   "source": [
    "# As the dataset contains dates ranging from 1700, set up a query to filter for only years after 1921\n",
    "emissions_query = {\"Year\" : {\"$gte\" : 1922}}\n",
    "\n",
    "# Select desired columns with a field query\n",
    "emissions_fields = {\"Country\", \"ISO 3166-1 alpha-3\", \"Year\", \"Total\", \"Coal\", \"Oil\", \"Gas\", \"Cement\", \"Flaring\", \"Other\"}"
   ]
  },
  {
   "cell_type": "code",
   "execution_count": null,
   "metadata": {},
   "outputs": [],
   "source": [
    "# Create an emissions DataFrame with the selected query and fields applied\n",
    "emissions_df = pd.DataFrame(emissions.find(emissions_query, emissions_fields))\n",
    "\n",
    "# Remove unwanted columns and rename remaining columns\n",
    "del emissions_df[\"_id\"]\n",
    "emissions_df = emissions_df.rename(columns= {\"ISO 3166-1 alpha-3\" : \"Code\"})\n",
    "\n",
    "# After inspecting the DataFrame at later stage, it was noted that the country of St. Kitts and Nevis was duplicated under a different name; this filter removes the duplicate\n",
    "emissions_df = emissions_df.loc[emissions_df[\"Country\"] != \"St. Kitts-Nevis-Anguilla\"]\n",
    "\n",
    "emissions_df.head()"
   ]
  },
  {
   "cell_type": "code",
   "execution_count": null,
   "metadata": {},
   "outputs": [],
   "source": [
    "# 1 record in the population collection is printed to gauge its structure\n",
    "pprint(population.find_one())"
   ]
  },
  {
   "cell_type": "code",
   "execution_count": null,
   "metadata": {},
   "outputs": [],
   "source": [
    "# Filter the population collection with a query to return all records, but only for certain columns\n",
    "population_query = {}\n",
    "population_fields = {\"Country/Territory\", \"CCA3\", \"Continent\", \"1970 Population\", \"1980 Population\", \"1990 Population\", \"2000 Population\", \"2010 Population\", \"2020 Population\"}"
   ]
  },
  {
   "cell_type": "code",
   "execution_count": null,
   "metadata": {},
   "outputs": [],
   "source": [
    "# Create a population DataFrame with the selected query and fields applied\n",
    "population_df = pd.DataFrame(population.find(population_query, population_fields))\n",
    "\n",
    "# Remove unwanted ID column and rename remaining columns\n",
    "del population_df[\"_id\"]\n",
    "population_df = population_df.rename(columns= {\"CCA3\" : \"Code\"})\n",
    "\n",
    "population_df.head()"
   ]
  },
  {
   "cell_type": "code",
   "execution_count": null,
   "metadata": {},
   "outputs": [],
   "source": [
    "# 1 record in the gdp collection is printed to gauge its structure\n",
    "pprint(gdp.find_one())"
   ]
  },
  {
   "cell_type": "code",
   "execution_count": null,
   "metadata": {},
   "outputs": [],
   "source": [
    "# gdp collection is filtered with a query to return all records, but only for certain columns (dates)\n",
    "gdp_query = {}\n",
    "gdp_fields = {\"Country Name\", \"Code\", \"1970\", \"1980\", \"1990\", \"2000\", \"2010\", \"2020\"}"
   ]
  },
  {
   "cell_type": "code",
   "execution_count": null,
   "metadata": {},
   "outputs": [],
   "source": [
    "# gdp DataFrame is created, with the selected query and fields applied\n",
    "gdp_df = pd.DataFrame(gdp.find(gdp_query, gdp_fields))\n",
    "\n",
    "# Unwanted ID column deleted\n",
    "del gdp_df[\"_id\"]\n",
    "\n",
    "gdp_df.head()"
   ]
  },
  {
   "cell_type": "code",
   "execution_count": null,
   "metadata": {},
   "outputs": [],
   "source": [
    "# As the 3 different datasets contain different names for countries, they are merged, so the country names can be standardised across all 3. Thry are merged on the \"Code\" column, as these are ubiquitously recognised codes\n",
    "merged_df = pd.merge(population_df, gdp_df, on=\"Code\", how=\"inner\").merge(emissions_df, on=\"Code\", how=\"inner\")\n",
    "\n",
    "merged_df.head()"
   ]
  },
  {
   "cell_type": "code",
   "execution_count": null,
   "metadata": {},
   "outputs": [],
   "source": [
    "# Cleaned emissions DataFrame is created by extracting and cleaning columns from the merged DataFrame\n",
    "emissions_df_cleaned = pd.DataFrame(merged_df[[\"Country/Territory\", \"Code\", \"Year\", \"Total\", \"Coal\", \"Oil\", \"Gas\", \"Cement\", \"Flaring\", \"Other\"]])\n",
    "emissions_df_cleaned = emissions_df_cleaned.rename(columns= {\"Country/Territory\" : \"Country\"})\n",
    "emissions_df_cleaned = emissions_df_cleaned.sort_values([\"Country\", \"Year\"])\n",
    "emissions_df_cleaned = emissions_df_cleaned.reset_index(drop=True)\n",
    "\n",
    "emissions_df_cleaned.head()"
   ]
  },
  {
   "cell_type": "code",
   "execution_count": null,
   "metadata": {},
   "outputs": [],
   "source": [
    "# Cleaned emissions DataFrame dtypes are checked and are found to be incorrect\n",
    "emissions_df_cleaned.dtypes         "
   ]
  },
  {
   "cell_type": "code",
   "execution_count": null,
   "metadata": {},
   "outputs": [],
   "source": [
    "# After further investigation, it was realised that these incorrect dtypes were due to a TypeError. This is rectifed by replacing all spaces with \"0\"\n",
    "emissions_df_cleaned = emissions_df_cleaned.replace('',0)\n",
    "\n",
    "# dtypes are checked again and are still incorrect\n",
    "emissions_df.dtypes"
   ]
  },
  {
   "cell_type": "code",
   "execution_count": null,
   "metadata": {},
   "outputs": [],
   "source": [
    "# \"astype\" is used to force the selected columns to float type\n",
    "emissions_df_cleaned[\"Total\"] = emissions_df_cleaned[\"Total\"].astype(\"float\")\n",
    "emissions_df_cleaned[\"Coal\"] = emissions_df_cleaned[\"Coal\"].astype(\"float\")\n",
    "emissions_df_cleaned[\"Oil\"] = emissions_df_cleaned[\"Oil\"].astype(\"float\")\n",
    "emissions_df_cleaned[\"Gas\"] = emissions_df_cleaned[\"Gas\"].astype(\"float\")\n",
    "emissions_df_cleaned[\"Cement\"] = emissions_df_cleaned[\"Cement\"].astype(\"float\")\n",
    "emissions_df_cleaned[\"Flaring\"] = emissions_df_cleaned[\"Flaring\"].astype(\"float\")\n",
    "emissions_df_cleaned[\"Other\"] = emissions_df_cleaned[\"Other\"].astype(\"float\")\n",
    "\n",
    "# dtypes are checked again and are now correct\n",
    "emissions_df_cleaned.dtypes"
   ]
  },
  {
   "cell_type": "code",
   "execution_count": null,
   "metadata": {},
   "outputs": [],
   "source": [
    "# Cleaned population DataFrame is created by extracting and cleaning columns from the merged DataFrame\n",
    "population_df_cleaned = merged_df.drop_duplicates(\"Code\")\n",
    "population_df_cleaned = population_df_cleaned[[\"Country/Territory\", \"Code\", \"Continent\", \"1970 Population\", \"1980 Population\", \"1990 Population\", \"2000 Population\", \"2010 Population\", \"2020 Population\"]]\n",
    "population_df_cleaned = population_df_cleaned.rename(columns= {\"Country/Territory\" : \"Country\"})\n",
    "population_df_cleaned = population_df_cleaned.sort_values(\"Country\")\n",
    "population_df_cleaned = population_df_cleaned.reset_index(drop=True)\n",
    "\n",
    "population_df_cleaned.head()"
   ]
  },
  {
   "cell_type": "code",
   "execution_count": null,
   "metadata": {},
   "outputs": [],
   "source": [
    "# Cleaned population DataFrame dtypes are checked and are found to be correct; no further action needed\n",
    "population_df_cleaned.dtypes"
   ]
  },
  {
   "cell_type": "code",
   "execution_count": null,
   "metadata": {},
   "outputs": [],
   "source": [
    "# Cleaned gdp DataFrame is created by extracting and cleaning columns from the merged DataFrame\n",
    "gdp_df_cleaned = merged_df.drop_duplicates(\"Code\")\n",
    "gdp_df_cleaned = gdp_df_cleaned[[\"Country/Territory\", \"Code\", \"Continent\", \"1970\", \"1980\", \"1990\", \"2000\", \"2010\", \"2020\"]]\n",
    "gdp_df_cleaned = gdp_df_cleaned.rename(columns= {\"Country/Territory\" : \"Country\"})\n",
    "gdp_df_cleaned = gdp_df_cleaned.sort_values(\"Country\")\n",
    "gdp_df_cleaned = gdp_df_cleaned.reset_index(drop=True)\n",
    "\n",
    "gdp_df_cleaned.head()"
   ]
  },
  {
   "cell_type": "code",
   "execution_count": null,
   "metadata": {},
   "outputs": [],
   "source": [
    "# Cleaned population DataFrame dtypes are checked and are found to be incorrect\n",
    "gdp_df_cleaned.dtypes"
   ]
  },
  {
   "cell_type": "code",
   "execution_count": null,
   "metadata": {},
   "outputs": [],
   "source": [
    "# After further investigation, it was realised that these incorrect dtypes were due to a TypeError. This is rectifed by replacing all spaces with \"0\"\n",
    "gdp_df_cleaned = gdp_df_cleaned.replace('',0)\n",
    "\n",
    "# dtypes are checked again and are now correct\n",
    "gdp_df_cleaned.dtypes"
   ]
  },
  {
   "cell_type": "code",
   "execution_count": null,
   "metadata": {},
   "outputs": [],
   "source": [
    "gdp_df_cleaned.head()"
   ]
  },
  {
   "cell_type": "code",
   "execution_count": null,
   "metadata": {},
   "outputs": [],
   "source": [
    "# Countries DataFrame is created by extracting and cleaning columns from the cleaned population DataFrame.\n",
    "countries_df = population_df_cleaned[[\"Country\", \"Code\", \"Continent\"]]\n",
    "countries_df = countries_df.sort_values(\"Country\")\n",
    "countries_df = countries_df.reset_index(drop=True)\n",
    "\n",
    "countries_df.head()"
   ]
  },
  {
   "cell_type": "code",
   "execution_count": null,
   "metadata": {},
   "outputs": [],
   "source": [
    "# Country DataFrame dtypes are checked and are correct\n",
    "countries_df.dtypes"
   ]
  },
  {
   "cell_type": "code",
   "execution_count": null,
   "metadata": {},
   "outputs": [],
   "source": [
    "# 4 DataFrames have now  been created; each have the same number of countries, with the same names\n",
    "# The 4 DataFrames are exported as CSVs to the output folder, and can be used for future projects, if desired\n",
    "emissions_df_cleaned.to_csv(\"output/emissions.csv\", index=False)\n",
    "population_df_cleaned.to_csv(\"output/population.csv\", index=False)\n",
    "gdp_df_cleaned.to_csv(\"output/gdp.csv\", index=False)\n",
    "countries_df.to_csv(\"output/countries.csv\", index=False)"
   ]
  },
  {
   "cell_type": "code",
   "execution_count": null,
   "metadata": {},
   "outputs": [],
   "source": [
    "# The 4 DataFrames are also JSONified, to be used in this project, for the JavaScript powered dashboard\n",
    "emissions_json = emissions_df_cleaned.to_json(orient=\"records\")\n",
    "population_json = population_df_cleaned.to_json(orient=\"records\")\n",
    "gdp_json = gdp_df_cleaned.to_json(orient=\"records\")\n",
    "countries_json = countries_df.to_json(orient=\"records\")"
   ]
  },
  {
   "cell_type": "code",
   "execution_count": null,
   "metadata": {},
   "outputs": [],
   "source": [
    "# The 4 JSONified DataFrames are parsed through \"json.loads\"\n",
    "emissions_parsed = json.loads(emissions_json)\n",
    "population_parsed = json.loads(population_json)\n",
    "gdp_parsed = json.loads(gdp_json)\n",
    "countries_parsed = json.loads(countries_json)"
   ]
  },
  {
   "cell_type": "code",
   "execution_count": null,
   "metadata": {},
   "outputs": [],
   "source": [
    "# The 4 parsed JSON outputs are merged into 1 data JSON output, and exported to the output folder, for use in the Javascript element of this project \n",
    "with open(\"output/data.json\", \"w\", encoding=\"utf8\") as output:\n",
    "    output.write(json.dumps({\"emissions\" : emissions_parsed,\n",
    "                             \"gdp\" : gdp_parsed,\n",
    "                             \"population\" : population_parsed,\n",
    "                             \"countries\" : countries_parsed}, indent=4))"
   ]
  },
  {
   "cell_type": "code",
   "execution_count": null,
   "metadata": {},
   "outputs": [],
   "source": [
    "# Function to print Top 10 bar plot to console, and export.\n",
    "def print_graph():\n",
    "    # A Top 10 Data Frame is created, fed by user driven inputs\n",
    "    top10_df = emissions_df_cleaned.loc[(emissions_df_cleaned[\"Year\"] == int(barplot_year)),:]\n",
    "    top10_df = top10_df[[\"Country\", \"Code\", barplot_emission_type]]\n",
    "    top10_df = top10_df.sort_values(by=barplot_emission_type, ascending=False)\n",
    "    top10_df = top10_df.head(10)\n",
    "    top10_df = top10_df.reset_index(drop=True)\n",
    "    top10_df\n",
    "\n",
    "    # Bar plot is created with Seaborn\n",
    "    plt.figure(figsize=(8,10))\n",
    "\n",
    "    barplot = sns.barplot(x = top10_df[\"Country\"],\n",
    "                        y = top10_df[barplot_emission_type],\n",
    "                        color=\"b\")\n",
    "\n",
    "    barplot.set(xlabel=\"\", ylabel = \"Emissions (MtCO2)\")\n",
    "    barplot.set(title=f'Top 10 {barplot_emission_type} Emissions in {barplot_year}')\n",
    "    barplot.set_xticklabels(labels = top10_df[\"Country\"], rotation=45)\n",
    "\n",
    "    # Bar plot exported to output folder\n",
    "    plt.savefig(f'output/top10_{barplot_emission_type.lower()}_emissions_{barplot_year}.png', dpi=100)\n",
    "\n",
    "    plt.show()"
   ]
  },
  {
   "cell_type": "code",
   "execution_count": null,
   "metadata": {},
   "outputs": [],
   "source": [
    "# While loop which takes in user inputs and uses the previously defined print_graph function to print bar plot graphs and export them to the PC\n",
    "print_another = \"yes\"\n",
    "\n",
    "while print_another == \"yes\":\n",
    "\n",
    "    # Try/except block is used to handle errors that may arise if the user inputs invalid data\n",
    "    try:\n",
    "        barplot_year = input(\"What year would you like to make a Top 10 graph for? Please enter a valid year (1921 - 2021)\")\n",
    "        barplot_emission_type = str(input(\"What emission type would you like to display? Please enter a valid emission type (Coal, Oil, Gas, Cement, Flaring, Other, Total)\").lower().title())\n",
    "        print_graph()\n",
    "\n",
    "    except ValueError:\n",
    "        barplot_year = input(\"Please enter a valid year (1921 - 2021)\")\n",
    "        print_graph()\n",
    "\n",
    "    except KeyError:\n",
    "        barplot_emission_type = str(input(\"Please enter a valid emission type (Coal, Oil, Gas, Cement, Flaring, Other, Total)\").lower().title())\n",
    "        print_graph()\n",
    "\n",
    "    print_another = input(\"would you like to make another graph?\").lower()"
   ]
  }
 ],
 "metadata": {
  "kernelspec": {
   "display_name": "dev",
   "language": "python",
   "name": "python3"
  },
  "language_info": {
   "codemirror_mode": {
    "name": "ipython",
    "version": 3
   },
   "file_extension": ".py",
   "mimetype": "text/x-python",
   "name": "python",
   "nbconvert_exporter": "python",
   "pygments_lexer": "ipython3",
   "version": "3.10.13"
  }
 },
 "nbformat": 4,
 "nbformat_minor": 2
}
