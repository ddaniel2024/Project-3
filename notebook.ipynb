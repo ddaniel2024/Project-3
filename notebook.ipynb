{
 "cells": [
  {
   "cell_type": "code",
   "execution_count": 258,
   "metadata": {},
   "outputs": [],
   "source": [
    "# Import dependencies\n",
    "from pymongo import MongoClient\n",
    "from pprint import pprint\n",
    "import pandas as pd\n",
    "import json"
   ]
  },
  {
   "cell_type": "code",
   "execution_count": 259,
   "metadata": {},
   "outputs": [],
   "source": [
    "# Create an instance of MongoClient\n",
    "mongo = MongoClient(port=27017)"
   ]
  },
  {
   "cell_type": "code",
   "execution_count": 260,
   "metadata": {},
   "outputs": [
    {
     "data": {
      "text/plain": [
       "['admin',\n",
       " 'autosaurus',\n",
       " 'classDB',\n",
       " 'config',\n",
       " 'epa',\n",
       " 'fruits_db',\n",
       " 'local',\n",
       " 'met',\n",
       " 'petsitly_marketing',\n",
       " 'project3',\n",
       " 'uk_food']"
      ]
     },
     "execution_count": 260,
     "metadata": {},
     "output_type": "execute_result"
    }
   ],
   "source": [
    "mongo.list_database_names()"
   ]
  },
  {
   "cell_type": "code",
   "execution_count": 261,
   "metadata": {},
   "outputs": [],
   "source": [
    "db = mongo[\"project3\"]"
   ]
  },
  {
   "cell_type": "code",
   "execution_count": 262,
   "metadata": {},
   "outputs": [
    {
     "data": {
      "text/plain": [
       "['emissions']"
      ]
     },
     "execution_count": 262,
     "metadata": {},
     "output_type": "execute_result"
    }
   ],
   "source": [
    "db.list_collection_names()"
   ]
  },
  {
   "cell_type": "code",
   "execution_count": 263,
   "metadata": {},
   "outputs": [],
   "source": [
    "emissions = db[\"emissions\"]"
   ]
  },
  {
   "cell_type": "code",
   "execution_count": 264,
   "metadata": {},
   "outputs": [
    {
     "name": "stdout",
     "output_type": "stream",
     "text": [
      "{'Cement': '',\n",
      " 'Coal': '',\n",
      " 'Country': 'Afghanistan',\n",
      " 'Flaring': '',\n",
      " 'Gas': '',\n",
      " 'ISO 3166-1 alpha-3': 'AFG',\n",
      " 'Oil': '',\n",
      " 'Other': '',\n",
      " 'Per Capita': '',\n",
      " 'Total': 0,\n",
      " 'Year': 1750,\n",
      " '_id': ObjectId('664ba42777e6e1a7c4a70a4f')}\n"
     ]
    }
   ],
   "source": [
    "pprint(emissions.find_one())"
   ]
  },
  {
   "cell_type": "code",
   "execution_count": 265,
   "metadata": {},
   "outputs": [],
   "source": [
    "yearquery = {\"Year\" : {\"$gte\" : 1921},\n",
    "             \"Country\" : \"Global\"}\n",
    "yearquery_df = pd.DataFrame(emissions.find(yearquery))"
   ]
  },
  {
   "cell_type": "code",
   "execution_count": 266,
   "metadata": {},
   "outputs": [
    {
     "data": {
      "text/html": [
       "<div>\n",
       "<style scoped>\n",
       "    .dataframe tbody tr th:only-of-type {\n",
       "        vertical-align: middle;\n",
       "    }\n",
       "\n",
       "    .dataframe tbody tr th {\n",
       "        vertical-align: top;\n",
       "    }\n",
       "\n",
       "    .dataframe thead th {\n",
       "        text-align: right;\n",
       "    }\n",
       "</style>\n",
       "<table border=\"1\" class=\"dataframe\">\n",
       "  <thead>\n",
       "    <tr style=\"text-align: right;\">\n",
       "      <th></th>\n",
       "      <th>Country</th>\n",
       "      <th>Year</th>\n",
       "      <th>Total</th>\n",
       "    </tr>\n",
       "  </thead>\n",
       "  <tbody>\n",
       "    <tr>\n",
       "      <th>0</th>\n",
       "      <td>Global</td>\n",
       "      <td>1921</td>\n",
       "      <td>3089.464239</td>\n",
       "    </tr>\n",
       "    <tr>\n",
       "      <th>1</th>\n",
       "      <td>Global</td>\n",
       "      <td>1922</td>\n",
       "      <td>3239.735891</td>\n",
       "    </tr>\n",
       "    <tr>\n",
       "      <th>2</th>\n",
       "      <td>Global</td>\n",
       "      <td>1923</td>\n",
       "      <td>3675.398052</td>\n",
       "    </tr>\n",
       "    <tr>\n",
       "      <th>3</th>\n",
       "      <td>Global</td>\n",
       "      <td>1924</td>\n",
       "      <td>3686.099236</td>\n",
       "    </tr>\n",
       "    <tr>\n",
       "      <th>4</th>\n",
       "      <td>Global</td>\n",
       "      <td>1926</td>\n",
       "      <td>3659.297161</td>\n",
       "    </tr>\n",
       "    <tr>\n",
       "      <th>...</th>\n",
       "      <td>...</td>\n",
       "      <td>...</td>\n",
       "      <td>...</td>\n",
       "    </tr>\n",
       "    <tr>\n",
       "      <th>96</th>\n",
       "      <td>Global</td>\n",
       "      <td>2017</td>\n",
       "      <td>36096.739276</td>\n",
       "    </tr>\n",
       "    <tr>\n",
       "      <th>97</th>\n",
       "      <td>Global</td>\n",
       "      <td>2018</td>\n",
       "      <td>36826.506600</td>\n",
       "    </tr>\n",
       "    <tr>\n",
       "      <th>98</th>\n",
       "      <td>Global</td>\n",
       "      <td>2019</td>\n",
       "      <td>37082.558969</td>\n",
       "    </tr>\n",
       "    <tr>\n",
       "      <th>99</th>\n",
       "      <td>Global</td>\n",
       "      <td>2020</td>\n",
       "      <td>35264.085734</td>\n",
       "    </tr>\n",
       "    <tr>\n",
       "      <th>100</th>\n",
       "      <td>Global</td>\n",
       "      <td>2021</td>\n",
       "      <td>37123.850352</td>\n",
       "    </tr>\n",
       "  </tbody>\n",
       "</table>\n",
       "<p>101 rows × 3 columns</p>\n",
       "</div>"
      ],
      "text/plain": [
       "    Country  Year         Total\n",
       "0    Global  1921   3089.464239\n",
       "1    Global  1922   3239.735891\n",
       "2    Global  1923   3675.398052\n",
       "3    Global  1924   3686.099236\n",
       "4    Global  1926   3659.297161\n",
       "..      ...   ...           ...\n",
       "96   Global  2017  36096.739276\n",
       "97   Global  2018  36826.506600\n",
       "98   Global  2019  37082.558969\n",
       "99   Global  2020  35264.085734\n",
       "100  Global  2021  37123.850352\n",
       "\n",
       "[101 rows x 3 columns]"
      ]
     },
     "execution_count": 266,
     "metadata": {},
     "output_type": "execute_result"
    }
   ],
   "source": [
    "yearquery_df = yearquery_df[[\"Country\", \"Year\", \"Total\"]]\n",
    "yearquery_df"
   ]
  },
  {
   "cell_type": "code",
   "execution_count": 267,
   "metadata": {},
   "outputs": [
    {
     "name": "stdout",
     "output_type": "stream",
     "text": [
      "[{\"Country\":\"Global\",\"Year\":1921,\"Total\":3089.464239},{\"Country\":\"Global\",\"Year\":1922,\"Total\":3239.735891},{\"Country\":\"Global\",\"Year\":1923,\"Total\":3675.398052},{\"Country\":\"Global\",\"Year\":1924,\"Total\":3686.099236},{\"Country\":\"Global\",\"Year\":1926,\"Total\":3659.297161},{\"Country\":\"Global\",\"Year\":1927,\"Total\":3993.753845},{\"Country\":\"Global\",\"Year\":1925,\"Total\":3725.636685},{\"Country\":\"Global\",\"Year\":1928,\"Total\":3976.070948},{\"Country\":\"Global\",\"Year\":1929,\"Total\":4267.657053},{\"Country\":\"Global\",\"Year\":1931,\"Total\":3516.940495},{\"Country\":\"Global\",\"Year\":1930,\"Total\":3934.730076},{\"Country\":\"Global\",\"Year\":1933,\"Total\":3338.349367},{\"Country\":\"Global\",\"Year\":1932,\"Total\":3170.800548},{\"Country\":\"Global\",\"Year\":1934,\"Total\":3630.765463},{\"Country\":\"Global\",\"Year\":1935,\"Total\":3811.111732},{\"Country\":\"Global\",\"Year\":1937,\"Total\":4469.369267},{\"Country\":\"Global\",\"Year\":1936,\"Total\":4181.088526},{\"Country\":\"Global\",\"Year\":1939,\"Total\":4445.442684},{\"Country\":\"Global\",\"Year\":1940,\"Total\":4854.657591},{\"Country\":\"Global\",\"Year\":1938,\"Total\":4201.279796},{\"Country\":\"Global\",\"Year\":1941,\"Total\":4965.648694},{\"Country\":\"Global\",\"Year\":1942,\"Total\":4953.623646},{\"Country\":\"Global\",\"Year\":1944,\"Total\":5110.65604},{\"Country\":\"Global\",\"Year\":1945,\"Total\":4250.264318},{\"Country\":\"Global\",\"Year\":1943,\"Total\":5035.077348},{\"Country\":\"Global\",\"Year\":1946,\"Total\":4638.338852},{\"Country\":\"Global\",\"Year\":1947,\"Total\":5138.489949},{\"Country\":\"Global\",\"Year\":1948,\"Total\":5415.709253},{\"Country\":\"Global\",\"Year\":1949,\"Total\":5245.849343},{\"Country\":\"Global\",\"Year\":1950,\"Total\":6003.271922},{\"Country\":\"Global\",\"Year\":1951,\"Total\":6379.796307},{\"Country\":\"Global\",\"Year\":1952,\"Total\":6465.726953},{\"Country\":\"Global\",\"Year\":1953,\"Total\":6647.763209},{\"Country\":\"Global\",\"Year\":1954,\"Total\":6789.968651},{\"Country\":\"Global\",\"Year\":1955,\"Total\":7443.244062},{\"Country\":\"Global\",\"Year\":1956,\"Total\":7924.253363},{\"Country\":\"Global\",\"Year\":1957,\"Total\":8185.546669},{\"Country\":\"Global\",\"Year\":1958,\"Total\":8417.623867},{\"Country\":\"Global\",\"Year\":1959,\"Total\":8856.221171},{\"Country\":\"Global\",\"Year\":1960,\"Total\":9387.668809},{\"Country\":\"Global\",\"Year\":1961,\"Total\":9418.459819},{\"Country\":\"Global\",\"Year\":1962,\"Total\":9751.059139},{\"Country\":\"Global\",\"Year\":1963,\"Total\":10271.654811},{\"Country\":\"Global\",\"Year\":1964,\"Total\":10829.612051},{\"Country\":\"Global\",\"Year\":1965,\"Total\":11317.596095},{\"Country\":\"Global\",\"Year\":1966,\"Total\":11866.933973},{\"Country\":\"Global\",\"Year\":1967,\"Total\":12244.028986},{\"Country\":\"Global\",\"Year\":1968,\"Total\":12910.891931},{\"Country\":\"Global\",\"Year\":1969,\"Total\":13767.398865},{\"Country\":\"Global\",\"Year\":1970,\"Total\":14898.715401},{\"Country\":\"Global\",\"Year\":1971,\"Total\":15505.495811},{\"Country\":\"Global\",\"Year\":1972,\"Total\":16228.729199},{\"Country\":\"Global\",\"Year\":1973,\"Total\":17086.19245},{\"Country\":\"Global\",\"Year\":1974,\"Total\":17017.476156},{\"Country\":\"Global\",\"Year\":1975,\"Total\":17054.627806},{\"Country\":\"Global\",\"Year\":1976,\"Total\":17991.88662},{\"Country\":\"Global\",\"Year\":1977,\"Total\":18502.845238},{\"Country\":\"Global\",\"Year\":1978,\"Total\":19077.192417},{\"Country\":\"Global\",\"Year\":1979,\"Total\":19618.461922},{\"Country\":\"Global\",\"Year\":1980,\"Total\":19501.263339},{\"Country\":\"Global\",\"Year\":1981,\"Total\":19036.118109},{\"Country\":\"Global\",\"Year\":1982,\"Total\":18884.487014},{\"Country\":\"Global\",\"Year\":1983,\"Total\":19006.539624},{\"Country\":\"Global\",\"Year\":1985,\"Total\":20325.486795},{\"Country\":\"Global\",\"Year\":1984,\"Total\":19664.753809},{\"Country\":\"Global\",\"Year\":1986,\"Total\":20627.358491},{\"Country\":\"Global\",\"Year\":1987,\"Total\":21273.904184},{\"Country\":\"Global\",\"Year\":1989,\"Total\":22410.401527},{\"Country\":\"Global\",\"Year\":1988,\"Total\":22107.794982},{\"Country\":\"Global\",\"Year\":1990,\"Total\":22757.480501},{\"Country\":\"Global\",\"Year\":1992,\"Total\":22580.023401},{\"Country\":\"Global\",\"Year\":1991,\"Total\":23244.805747},{\"Country\":\"Global\",\"Year\":1993,\"Total\":22812.899822},{\"Country\":\"Global\",\"Year\":1994,\"Total\":22969.498357},{\"Country\":\"Global\",\"Year\":1995,\"Total\":23458.713064},{\"Country\":\"Global\",\"Year\":1996,\"Total\":24159.382272},{\"Country\":\"Global\",\"Year\":1997,\"Total\":24302.583028},{\"Country\":\"Global\",\"Year\":1998,\"Total\":24213.260513},{\"Country\":\"Global\",\"Year\":1999,\"Total\":24732.388369},{\"Country\":\"Global\",\"Year\":2000,\"Total\":25453.622139},{\"Country\":\"Global\",\"Year\":2001,\"Total\":25668.048326},{\"Country\":\"Global\",\"Year\":2002,\"Total\":26281.037468},{\"Country\":\"Global\",\"Year\":2003,\"Total\":27651.596453},{\"Country\":\"Global\",\"Year\":2004,\"Total\":28636.695037},{\"Country\":\"Global\",\"Year\":2005,\"Total\":29614.602256},{\"Country\":\"Global\",\"Year\":2006,\"Total\":30593.116788},{\"Country\":\"Global\",\"Year\":2007,\"Total\":31506.7892},{\"Country\":\"Global\",\"Year\":2008,\"Total\":32085.836322},{\"Country\":\"Global\",\"Year\":2009,\"Total\":31564.030692},{\"Country\":\"Global\",\"Year\":2010,\"Total\":33364.346496},{\"Country\":\"Global\",\"Year\":2011,\"Total\":34487.011618},{\"Country\":\"Global\",\"Year\":2012,\"Total\":35006.267581},{\"Country\":\"Global\",\"Year\":2013,\"Total\":35319.201624},{\"Country\":\"Global\",\"Year\":2014,\"Total\":35577.534774},{\"Country\":\"Global\",\"Year\":2016,\"Total\":35524.193212},{\"Country\":\"Global\",\"Year\":2015,\"Total\":35558.565735},{\"Country\":\"Global\",\"Year\":2017,\"Total\":36096.739276},{\"Country\":\"Global\",\"Year\":2018,\"Total\":36826.5066},{\"Country\":\"Global\",\"Year\":2019,\"Total\":37082.558969},{\"Country\":\"Global\",\"Year\":2020,\"Total\":35264.085734},{\"Country\":\"Global\",\"Year\":2021,\"Total\":37123.850352}]\n"
     ]
    }
   ],
   "source": [
    "yearquery_json = yearquery_df.to_json(orient=\"records\")\n",
    "print(yearquery_json)"
   ]
  },
  {
   "cell_type": "code",
   "execution_count": 268,
   "metadata": {},
   "outputs": [],
   "source": [
    "parsed = json.loads(yearquery_json)"
   ]
  },
  {
   "cell_type": "code",
   "execution_count": 269,
   "metadata": {},
   "outputs": [],
   "source": [
    "#https://stackoverflow.com/questions/60029873/pandas-to-json-redundant-backslashes\n",
    "with open(\"output.json\", \"w\", encoding=\"utf8\") as output:\n",
    "    output.write(json.dumps({\"data\" : parsed}, indent=4))"
   ]
  }
 ],
 "metadata": {
  "kernelspec": {
   "display_name": "dev",
   "language": "python",
   "name": "python3"
  },
  "language_info": {
   "codemirror_mode": {
    "name": "ipython",
    "version": 3
   },
   "file_extension": ".py",
   "mimetype": "text/x-python",
   "name": "python",
   "nbconvert_exporter": "python",
   "pygments_lexer": "ipython3",
   "version": "3.10.13"
  }
 },
 "nbformat": 4,
 "nbformat_minor": 2
}
