{
 "cells": [
  {
   "cell_type": "code",
   "execution_count": 80,
   "metadata": {},
   "outputs": [],
   "source": [
    "# Import dependencies\n",
    "from pymongo import MongoClient\n",
    "from pprint import pprint\n",
    "import pandas as pd\n",
    "import json"
   ]
  },
  {
   "cell_type": "code",
   "execution_count": 81,
   "metadata": {},
   "outputs": [],
   "source": [
    "# Create an instance of MongoClient\n",
    "mongo = MongoClient(port=27017)"
   ]
  },
  {
   "cell_type": "code",
   "execution_count": 82,
   "metadata": {},
   "outputs": [
    {
     "data": {
      "text/plain": [
       "['admin',\n",
       " 'autosaurus',\n",
       " 'classDB',\n",
       " 'config',\n",
       " 'epa',\n",
       " 'fruits_db',\n",
       " 'local',\n",
       " 'met',\n",
       " 'petsitly_marketing',\n",
       " 'project3',\n",
       " 'uk_food']"
      ]
     },
     "execution_count": 82,
     "metadata": {},
     "output_type": "execute_result"
    }
   ],
   "source": [
    "mongo.list_database_names()"
   ]
  },
  {
   "cell_type": "code",
   "execution_count": 83,
   "metadata": {},
   "outputs": [],
   "source": [
    "db = mongo[\"project3\"]"
   ]
  },
  {
   "cell_type": "code",
   "execution_count": 84,
   "metadata": {},
   "outputs": [
    {
     "data": {
      "text/plain": [
       "['emissions']"
      ]
     },
     "execution_count": 84,
     "metadata": {},
     "output_type": "execute_result"
    }
   ],
   "source": [
    "db.list_collection_names()"
   ]
  },
  {
   "cell_type": "code",
   "execution_count": 85,
   "metadata": {},
   "outputs": [],
   "source": [
    "emissions = db[\"emissions\"]"
   ]
  },
  {
   "cell_type": "code",
   "execution_count": 86,
   "metadata": {},
   "outputs": [
    {
     "name": "stdout",
     "output_type": "stream",
     "text": [
      "{'Cement': '',\n",
      " 'Coal': '',\n",
      " 'Country': 'Afghanistan',\n",
      " 'Flaring': '',\n",
      " 'Gas': '',\n",
      " 'ISO 3166-1 alpha-3': 'AFG',\n",
      " 'Oil': '',\n",
      " 'Other': '',\n",
      " 'Per Capita': '',\n",
      " 'Total': 0,\n",
      " 'Year': 1750,\n",
      " '_id': ObjectId('664ba42777e6e1a7c4a70a4f')}\n"
     ]
    }
   ],
   "source": [
    "pprint(emissions.find_one())"
   ]
  },
  {
   "cell_type": "code",
   "execution_count": 87,
   "metadata": {},
   "outputs": [],
   "source": [
    "yearquery = {\"Year\" : {\"$gte\" : 1921},\n",
    "             \"Country\" : \"Global\"}\n",
    "yearquery_df = pd.DataFrame(emissions.find(yearquery))"
   ]
  },
  {
   "cell_type": "code",
   "execution_count": 88,
   "metadata": {},
   "outputs": [
    {
     "data": {
      "text/html": [
       "<div>\n",
       "<style scoped>\n",
       "    .dataframe tbody tr th:only-of-type {\n",
       "        vertical-align: middle;\n",
       "    }\n",
       "\n",
       "    .dataframe tbody tr th {\n",
       "        vertical-align: top;\n",
       "    }\n",
       "\n",
       "    .dataframe thead th {\n",
       "        text-align: right;\n",
       "    }\n",
       "</style>\n",
       "<table border=\"1\" class=\"dataframe\">\n",
       "  <thead>\n",
       "    <tr style=\"text-align: right;\">\n",
       "      <th></th>\n",
       "      <th>Country</th>\n",
       "      <th>Year</th>\n",
       "      <th>Total</th>\n",
       "      <th>Coal</th>\n",
       "      <th>Oil</th>\n",
       "      <th>Gas</th>\n",
       "      <th>Cement</th>\n",
       "      <th>Flaring</th>\n",
       "      <th>Other</th>\n",
       "      <th>Per Capita</th>\n",
       "    </tr>\n",
       "  </thead>\n",
       "  <tbody>\n",
       "    <tr>\n",
       "      <th>0</th>\n",
       "      <td>Global</td>\n",
       "      <td>1921</td>\n",
       "      <td>3089.464239</td>\n",
       "      <td>2668.396987</td>\n",
       "      <td>384.258313</td>\n",
       "      <td>34.992309</td>\n",
       "      <td>0.129580</td>\n",
       "      <td></td>\n",
       "      <td></td>\n",
       "      <td>1.602529</td>\n",
       "    </tr>\n",
       "    <tr>\n",
       "      <th>1</th>\n",
       "      <td>Global</td>\n",
       "      <td>1922</td>\n",
       "      <td>3239.735891</td>\n",
       "      <td>2770.670402</td>\n",
       "      <td>426.345193</td>\n",
       "      <td>40.106976</td>\n",
       "      <td>0.192769</td>\n",
       "      <td></td>\n",
       "      <td></td>\n",
       "      <td>1.666300</td>\n",
       "    </tr>\n",
       "    <tr>\n",
       "      <th>2</th>\n",
       "      <td>Global</td>\n",
       "      <td>1923</td>\n",
       "      <td>3675.398052</td>\n",
       "      <td>3146.423216</td>\n",
       "      <td>473.526834</td>\n",
       "      <td>52.526095</td>\n",
       "      <td>0.207956</td>\n",
       "      <td></td>\n",
       "      <td></td>\n",
       "      <td>1.874001</td>\n",
       "    </tr>\n",
       "    <tr>\n",
       "      <th>3</th>\n",
       "      <td>Global</td>\n",
       "      <td>1924</td>\n",
       "      <td>3686.099236</td>\n",
       "      <td>3152.648603</td>\n",
       "      <td>470.811853</td>\n",
       "      <td>59.708798</td>\n",
       "      <td>0.216033</td>\n",
       "      <td></td>\n",
       "      <td></td>\n",
       "      <td>1.862817</td>\n",
       "    </tr>\n",
       "    <tr>\n",
       "      <th>4</th>\n",
       "      <td>Global</td>\n",
       "      <td>1926</td>\n",
       "      <td>3659.297161</td>\n",
       "      <td>3081.756870</td>\n",
       "      <td>490.648088</td>\n",
       "      <td>69.144490</td>\n",
       "      <td>14.740364</td>\n",
       "      <td></td>\n",
       "      <td></td>\n",
       "      <td>1.815862</td>\n",
       "    </tr>\n",
       "    <tr>\n",
       "      <th>...</th>\n",
       "      <td>...</td>\n",
       "      <td>...</td>\n",
       "      <td>...</td>\n",
       "      <td>...</td>\n",
       "      <td>...</td>\n",
       "      <td>...</td>\n",
       "      <td>...</td>\n",
       "      <td>...</td>\n",
       "      <td>...</td>\n",
       "      <td>...</td>\n",
       "    </tr>\n",
       "    <tr>\n",
       "      <th>96</th>\n",
       "      <td>Global</td>\n",
       "      <td>2017</td>\n",
       "      <td>36096.739276</td>\n",
       "      <td>14506.973805</td>\n",
       "      <td>12242.627935</td>\n",
       "      <td>7144.928128</td>\n",
       "      <td>1507.923185</td>\n",
       "      <td>391.992176</td>\n",
       "      <td>302.294047</td>\n",
       "      <td>4.749682</td>\n",
       "    </tr>\n",
       "    <tr>\n",
       "      <th>97</th>\n",
       "      <td>Global</td>\n",
       "      <td>2018</td>\n",
       "      <td>36826.506600</td>\n",
       "      <td>14746.830688</td>\n",
       "      <td>12266.016285</td>\n",
       "      <td>7529.846784</td>\n",
       "      <td>1569.218392</td>\n",
       "      <td>412.115746</td>\n",
       "      <td>302.478706</td>\n",
       "      <td>4.792753</td>\n",
       "    </tr>\n",
       "    <tr>\n",
       "      <th>98</th>\n",
       "      <td>Global</td>\n",
       "      <td>2019</td>\n",
       "      <td>37082.558969</td>\n",
       "      <td>14725.978025</td>\n",
       "      <td>12345.653374</td>\n",
       "      <td>7647.528220</td>\n",
       "      <td>1617.506786</td>\n",
       "      <td>439.253991</td>\n",
       "      <td>306.638573</td>\n",
       "      <td>4.775633</td>\n",
       "    </tr>\n",
       "    <tr>\n",
       "      <th>99</th>\n",
       "      <td>Global</td>\n",
       "      <td>2020</td>\n",
       "      <td>35264.085734</td>\n",
       "      <td>14174.564010</td>\n",
       "      <td>11191.808551</td>\n",
       "      <td>7556.290283</td>\n",
       "      <td>1637.537532</td>\n",
       "      <td>407.583673</td>\n",
       "      <td>296.301685</td>\n",
       "      <td>4.497423</td>\n",
       "    </tr>\n",
       "    <tr>\n",
       "      <th>100</th>\n",
       "      <td>Global</td>\n",
       "      <td>2021</td>\n",
       "      <td>37123.850352</td>\n",
       "      <td>14979.598083</td>\n",
       "      <td>11837.159116</td>\n",
       "      <td>7921.829472</td>\n",
       "      <td>1672.592372</td>\n",
       "      <td>416.525563</td>\n",
       "      <td>296.145746</td>\n",
       "      <td>4.693699</td>\n",
       "    </tr>\n",
       "  </tbody>\n",
       "</table>\n",
       "<p>101 rows × 10 columns</p>\n",
       "</div>"
      ],
      "text/plain": [
       "    Country  Year         Total          Coal           Oil          Gas  \\\n",
       "0    Global  1921   3089.464239   2668.396987    384.258313    34.992309   \n",
       "1    Global  1922   3239.735891   2770.670402    426.345193    40.106976   \n",
       "2    Global  1923   3675.398052   3146.423216    473.526834    52.526095   \n",
       "3    Global  1924   3686.099236   3152.648603    470.811853    59.708798   \n",
       "4    Global  1926   3659.297161   3081.756870    490.648088    69.144490   \n",
       "..      ...   ...           ...           ...           ...          ...   \n",
       "96   Global  2017  36096.739276  14506.973805  12242.627935  7144.928128   \n",
       "97   Global  2018  36826.506600  14746.830688  12266.016285  7529.846784   \n",
       "98   Global  2019  37082.558969  14725.978025  12345.653374  7647.528220   \n",
       "99   Global  2020  35264.085734  14174.564010  11191.808551  7556.290283   \n",
       "100  Global  2021  37123.850352  14979.598083  11837.159116  7921.829472   \n",
       "\n",
       "          Cement     Flaring       Other  Per Capita  \n",
       "0       0.129580                            1.602529  \n",
       "1       0.192769                            1.666300  \n",
       "2       0.207956                            1.874001  \n",
       "3       0.216033                            1.862817  \n",
       "4      14.740364                            1.815862  \n",
       "..           ...         ...         ...         ...  \n",
       "96   1507.923185  391.992176  302.294047    4.749682  \n",
       "97   1569.218392  412.115746  302.478706    4.792753  \n",
       "98   1617.506786  439.253991  306.638573    4.775633  \n",
       "99   1637.537532  407.583673  296.301685    4.497423  \n",
       "100  1672.592372  416.525563  296.145746    4.693699  \n",
       "\n",
       "[101 rows x 10 columns]"
      ]
     },
     "execution_count": 88,
     "metadata": {},
     "output_type": "execute_result"
    }
   ],
   "source": [
    "del yearquery_df[\"_id\"]\n",
    "del yearquery_df[\"ISO 3166-1 alpha-3\"]\n",
    "yearquery_df"
   ]
  },
  {
   "cell_type": "code",
   "execution_count": 89,
   "metadata": {},
   "outputs": [],
   "source": [
    "yearquery_json = yearquery_df.to_json()"
   ]
  },
  {
   "cell_type": "code",
   "execution_count": 90,
   "metadata": {},
   "outputs": [],
   "source": [
    "with open(\"output.json\", \"w\") as output:\n",
    "    json.dump(yearquery_json, output)"
   ]
  }
 ],
 "metadata": {
  "kernelspec": {
   "display_name": "dev",
   "language": "python",
   "name": "python3"
  },
  "language_info": {
   "codemirror_mode": {
    "name": "ipython",
    "version": 3
   },
   "file_extension": ".py",
   "mimetype": "text/x-python",
   "name": "python",
   "nbconvert_exporter": "python",
   "pygments_lexer": "ipython3",
   "version": "3.10.13"
  }
 },
 "nbformat": 4,
 "nbformat_minor": 2
}
